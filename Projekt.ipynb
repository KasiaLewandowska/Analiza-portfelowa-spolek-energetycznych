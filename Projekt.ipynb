{
  "nbformat": 4,
  "nbformat_minor": 0,
  "metadata": {
    "colab": {
      "provenance": [],
      "authorship_tag": "ABX9TyNB9qnu6wMFfkSEwHRXuG+2",
      "include_colab_link": true
    },
    "kernelspec": {
      "name": "python3",
      "display_name": "Python 3"
    },
    "language_info": {
      "name": "python"
    }
  },
  "cells": [
    {
      "cell_type": "markdown",
      "metadata": {
        "id": "view-in-github",
        "colab_type": "text"
      },
      "source": [
        "<a href=\"https://colab.research.google.com/github/KasiaLewandowska/Analiza-portfelowa-spolek-energetycznych/blob/main/Projekt.ipynb\" target=\"_parent\"><img src=\"https://colab.research.google.com/assets/colab-badge.svg\" alt=\"Open In Colab\"/></a>"
      ]
    },
    {
      "cell_type": "markdown",
      "source": [
        "# **Analiza portfelowa spółek energetycznych**\n",
        "Katarzyna Lewandowska, Krzysztof Niedziejko"
      ],
      "metadata": {
        "id": "l7Jg4ANpHT7j"
      }
    },
    {
      "cell_type": "markdown",
      "source": [
        "## Wprowadzenie"
      ],
      "metadata": {
        "id": "wDph8uymSFZe"
      }
    },
    {
      "cell_type": "markdown",
      "source": [
        "W naszej dokumentacji przedstawimy projekt dotyczący analizy portfelowej z wykorzystaniem uczenia maszynowego dla pięciu spółek branży energetycznej:\n",
        "- Kombinat Górniczo-Hutniczy Miedzi (**KGHM**)\n",
        "\n",
        "  <img src=\"https://upload.wikimedia.org/wikipedia/commons/1/19/Kghm_nowe_logo.svg\" width=\"200\">\n",
        "\n",
        "<br>\n",
        "\n",
        "- LW Bogdanka (**LWB**)\n",
        "\n",
        "  <img src=\"https://upload.wikimedia.org/wikipedia/commons/8/8f/LWBogdanka_logo.png\" width=\"200\">\n",
        "\n",
        "<br>\n",
        "\n",
        "- Jastrzębska Spółka Węglowa (**JSW**)\n",
        "\n",
        "  <img src=\"https://uksw.edu.pl/images/aktualnosci/spolka-weglowa.jpg\" width=\"200\">\n",
        "\n",
        "<br>\n",
        "\n",
        "- Gazprom (**GAZP**)\n",
        "\n",
        "  <img src=\"https://upload.wikimedia.org/wikipedia/commons/4/42/Gazprom_logo.svg\" width=\"200\">\n",
        "\n",
        "<br>\n",
        "\n",
        "- ExxonMobil Corporation (**XOM**)\n",
        "\n",
        "  <img src=\"https://upload.wikimedia.org/wikipedia/commons/1/18/Exxon_Mobil_Logo.svg\" width=\"200\">\n",
        "\n",
        "<br>\n",
        "\n",
        "Trzy pierwsze są spółkami polskimi, a dwie ostatnie zagranicznymi. Celem projektu jest zastosowanie technik analizy danych do oceny atrakcyjności portfela inwestycyjnego, a także ocena sytuacji wybranych spółek i ich porównanie.\n",
        "\n",
        "Branża energetyczna jest jedną z najważniejszych w gospodarce oraz stanowi filar bezpieczeństwa kraju. Wybrane przez nas spółki mają duże znaczenie na rynku energetycznym w Polsce i na świecie.\n",
        "\n",
        "**JSW** to czołowy producent węgla kokosowego w Europie i istotna firma górnicza w Polsce. **KGHM** – jedna z największych spółek górniczo-hutniczych na świecie, zajmująca się wydobyciem i przetwórstwem miedzi oraz innych metali. **LW Bogdanka** to firma, wydobywająca węgiel kamienny. W ostatnim czasie odnotowała wysoką stopę zwrotu dla inwestorów. Działalność **Gazpromu** związana jest z wydobyciem i produkcją gazu ziemnego oraz jego przesyłem. Gazprom to kluczowy gracz na rynku produkcji gazu, o czym mieszkańcy Europy mogli szczególnie przekonać się od czasu wybuchu wojny rosyjsko-ukraińska. **Exxon Mobil** jest z kolei amerykańską firmą zajmującą się przetwórstwem ropy naftowej i gazu ziemnego."
      ],
      "metadata": {
        "id": "UWf3Ox_mIpxx"
      }
    },
    {
      "cell_type": "markdown",
      "source": [
        "## Wizualizacja zebranych danych"
      ],
      "metadata": {
        "id": "mugWN029N-wD"
      }
    },
    {
      "cell_type": "markdown",
      "source": [
        "Na potrzeby projektu zebrano dane dotyczące dziennej wartości notowań powyższych spółek w ciągu 5 lat od 13 marca 2018 do 13 marca 2023. Dane dla polskich firm pobrano ze strony stooq.pl, a w celu pozyskania danych firm zagranicznych skorzystaliśmy z zasobów dostępnych na stronie investing.com."
      ],
      "metadata": {
        "id": "Yw_pdQAxO3Ui"
      }
    },
    {
      "cell_type": "code",
      "source": [],
      "metadata": {
        "id": "zVyoI-QRPDiH"
      },
      "execution_count": null,
      "outputs": []
    }
  ]
}